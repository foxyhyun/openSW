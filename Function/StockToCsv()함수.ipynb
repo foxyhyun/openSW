{
 "cells": [
  {
   "cell_type": "code",
   "execution_count": 7,
   "id": "6c829587",
   "metadata": {},
   "outputs": [],
   "source": [
    "from urllib import parse\n",
    "import pandas as pd\n",
    "\n",
    "def StockToCsv(fileName,code): # 주식 종목코드 입력시 주식정보CSV로 저장해줌\n",
    "    get_param = {\n",
    "        'pGB':1,\n",
    "        'gicode':'A%s'%(code),\n",
    "        'cID':'',\n",
    "        'MenuYn':'Y',\n",
    "        'ReportGB':'',\n",
    "        'NewMenuID':101,\n",
    "        'stkGb':701,\n",
    "    }\n",
    "    get_param = parse.urlencode(get_param)\n",
    "    url=\"http://comp.fnguide.com/SVO2/ASP/SVD_Main.asp?%s\"%(get_param)\n",
    "    tables = pd.read_html(url, header=0,encoding='utf-8')\n",
    "\n",
    "    sit = pd.DataFrame(tables[11])\n",
    "    sit.to_csv(fileName+\".csv\",encoding='cp949')"
   ]
  },
  {
   "cell_type": "code",
   "execution_count": 8,
   "id": "b48d64d7",
   "metadata": {},
   "outputs": [],
   "source": [
    "StockToCsv(\"C:/Samsung\",'005930')\n",
    "StockToCsv(\"C:/SK하이닉스\",'000660')\n",
    "StockToCsv(\"C:/동원F&B\",'049770')\n",
    "StockToCsv(\"C:/에스에프에이\",'056190')\n",
    "StockToCsv(\"C:/금양\",'001570')\n"
   ]
  },
  {
   "cell_type": "code",
   "execution_count": null,
   "id": "69b0081c",
   "metadata": {},
   "outputs": [],
   "source": []
  }
 ],
 "metadata": {
  "kernelspec": {
   "display_name": "Python 3 (ipykernel)",
   "language": "python",
   "name": "python3"
  },
  "language_info": {
   "codemirror_mode": {
    "name": "ipython",
    "version": 3
   },
   "file_extension": ".py",
   "mimetype": "text/x-python",
   "name": "python",
   "nbconvert_exporter": "python",
   "pygments_lexer": "ipython3",
   "version": "3.10.2"
  }
 },
 "nbformat": 4,
 "nbformat_minor": 5
}
