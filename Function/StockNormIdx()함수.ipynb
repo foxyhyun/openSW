{
 "cells": [
  {
   "cell_type": "code",
   "execution_count": 1,
   "id": "affe9103",
   "metadata": {},
   "outputs": [],
   "source": [
    "from urllib import parse\n",
    "import pandas as pd\n",
    "import np\n",
    "\n",
    "def StockNormIdx(code):##ROA, ROE, EPS, BPS, DPS, PER, PBR의 각 항목당 2018.12 ~ 2023.12의 데이터 6개 갖음 (7,8)크기\n",
    "    get_param = {\n",
    "        'pGB':1,\n",
    "        'gicode':'A%s'%(code),\n",
    "        'cID':'',\n",
    "        'MenuYn':'Y',\n",
    "        'ReportGB':'',\n",
    "        'NewMenuID':101,\n",
    "        'stkGb':701,\n",
    "    }\n",
    "    get_param = parse.urlencode(get_param)\n",
    "    url=\"http://comp.fnguide.com/SVO2/ASP/SVD_Main.asp?%s\"%(get_param)\n",
    "    tables = pd.read_html(url, header=0,encoding='utf-8')\n",
    "    sit=np.array(tables[11]) \n",
    "    print(\"\")\n",
    "    data=[]\n",
    "    ROE=np.array([])\n",
    "    for i in range(7):\n",
    "        ROE = sit[17+i][2:8].astype('float32')\n",
    "        data.append(ROE/np.linalg.norm(ROE, ord=1))\n",
    "    data=np.array(data)\n",
    "\n",
    "    return data"
   ]
  },
  {
   "cell_type": "code",
   "execution_count": 2,
   "id": "8d2f2c50",
   "metadata": {},
   "outputs": [
    {
     "name": "stdout",
     "output_type": "stream",
     "text": [
      "\n"
     ]
    },
    {
     "data": {
      "text/plain": [
       "array([[0.27337417, 0.1241352 , 0.14291361, 0.19608617, 0.16445936,\n",
       "        0.09903143],\n",
       "       [0.27757356, 0.12287896, 0.14126132, 0.1968326 , 0.16430996,\n",
       "        0.09714367],\n",
       "       [0.21853007, 0.11485163, 0.13933831, 0.20956977, 0.19415222,\n",
       "        0.12355801],\n",
       "       [0.13861348, 0.1471871 , 0.15455273, 0.17104499, 0.19023564,\n",
       "        0.19836608],\n",
       "       [0.13715614, 0.13715614, 0.29000387, 0.13986827, 0.14732662,\n",
       "        0.14848895],\n",
       "       [0.07525495, 0.20665807, 0.24721605, 0.1588325 , 0.12132224,\n",
       "        0.19071622],\n",
       "       [0.1265823 , 0.17146146, 0.2370541 , 0.20713465, 0.13118528,\n",
       "        0.1265823 ]], dtype=float32)"
      ]
     },
     "execution_count": 2,
     "metadata": {},
     "output_type": "execute_result"
    }
   ],
   "source": [
    "StockNormIdx('005930')"
   ]
  }
 ],
 "metadata": {
  "kernelspec": {
   "display_name": "Python 3 (ipykernel)",
   "language": "python",
   "name": "python3"
  },
  "language_info": {
   "codemirror_mode": {
    "name": "ipython",
    "version": 3
   },
   "file_extension": ".py",
   "mimetype": "text/x-python",
   "name": "python",
   "nbconvert_exporter": "python",
   "pygments_lexer": "ipython3",
   "version": "3.10.2"
  }
 },
 "nbformat": 4,
 "nbformat_minor": 5
}
