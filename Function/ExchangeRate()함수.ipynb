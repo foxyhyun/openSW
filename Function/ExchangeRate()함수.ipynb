{
 "cells": [
  {
   "cell_type": "code",
   "execution_count": 4,
   "id": "db96f8d7",
   "metadata": {},
   "outputs": [],
   "source": [
    "import pandas as pd\n",
    "import np"
   ]
  },
  {
   "cell_type": "code",
   "execution_count": 5,
   "id": "6baa3c4e",
   "metadata": {},
   "outputs": [],
   "source": [
    "def ExchangeRate(FileName):  ## 2018.05.01~ 1달간의 환율의 종가데이터 57개 배열로 출력\n",
    "    csv = pd.read_csv(FileName,encoding='utf-8')\n",
    "    ##print(csv)            차트 확인할 시, 주석제거\n",
    "    csv = np.array(csv)\n",
    "    data=[]\n",
    "    for i in range(len(csv)):   \n",
    "        fnum=\"\"\n",
    "        for j in csv[i][1]:\n",
    "            if(j == ','):\n",
    "                continue\n",
    "            fnum+=j\n",
    "        data.append(float(fnum))\n",
    "    data = np.array(data)\n",
    "    return data"
   ]
  },
  {
   "cell_type": "code",
   "execution_count": 6,
   "id": "ac898a0d",
   "metadata": {},
   "outputs": [
    {
     "data": {
      "text/plain": [
       "array([1274.48, 1260.92, 1301.65, 1425.83, 1439.96, 1341.19, 1302.97,\n",
       "       1287.51, 1242.26, 1263.03, 1214.17, 1200.12, 1204.63, 1187.96,\n",
       "       1182.71, 1174.47, 1184.23, 1158.73, 1151.41, 1130.48, 1106.58,\n",
       "       1117.16, 1127.17, 1123.89, 1117.64, 1084.47, 1109.32, 1136.49,\n",
       "       1164.65, 1187.94, 1193.59, 1199.28, 1231.49, 1212.94, 1218.3 ,\n",
       "       1200.2 , 1194.97, 1154.07, 1180.7 , 1169.24, 1198.09, 1209.5 ,\n",
       "       1187.32, 1155.38, 1187.8 , 1163.25, 1136.1 , 1124.6 , 1111.4 ,\n",
       "       1113.3 , 1119.44, 1141.02, 1109.98, 1115.46, 1112.25, 1113.91,\n",
       "       1079.59])"
      ]
     },
     "execution_count": 6,
     "metadata": {},
     "output_type": "execute_result"
    }
   ],
   "source": [
    "ExchangeRate('C:/Exchange.csv') "
   ]
  },
  {
   "cell_type": "code",
   "execution_count": null,
   "id": "2a6a8b70",
   "metadata": {},
   "outputs": [],
   "source": []
  }
 ],
 "metadata": {
  "kernelspec": {
   "display_name": "Python 3 (ipykernel)",
   "language": "python",
   "name": "python3"
  },
  "language_info": {
   "codemirror_mode": {
    "name": "ipython",
    "version": 3
   },
   "file_extension": ".py",
   "mimetype": "text/x-python",
   "name": "python",
   "nbconvert_exporter": "python",
   "pygments_lexer": "ipython3",
   "version": "3.10.2"
  }
 },
 "nbformat": 4,
 "nbformat_minor": 5
}
