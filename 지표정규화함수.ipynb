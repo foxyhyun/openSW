{
 "cells": [
  {
   "cell_type": "code",
   "execution_count": 31,
   "id": "affe9103",
   "metadata": {},
   "outputs": [],
   "source": [
    "from urllib import parse\n",
    "import pandas as pd\n",
    "import lxml\n",
    "import np\n",
    "import tensorflow as tf\n",
    "\n",
    "def StockNormIdx(code):\n",
    "    get_param = {\n",
    "        'pGB':1,\n",
    "        'gicode':'A%s'%(code),\n",
    "        'cID':'',\n",
    "        'MenuYn':'Y',\n",
    "        'ReportGB':'',\n",
    "        'NewMenuID':101,\n",
    "        'stkGb':701,\n",
    "    }\n",
    "    get_param = parse.urlencode(get_param)\n",
    "    url=\"http://comp.fnguide.com/SVO2/ASP/SVD_Main.asp?%s\"%(get_param)\n",
    "    tables = pd.read_html(url, header=0,encoding='utf-8')\n",
    "    sit=np.array(tables[11]) \n",
    "    print(\"ROA, ROE, EPS, BPS, DPS, PER, PBR\")\n",
    "    data=[]\n",
    "    ROE=np.array([])\n",
    "    for i in range(7):\n",
    "        ROE = sit[17+i][1:].astype('float32')\n",
    "        data.append(ROE/np.linalg.norm(ROE, ord=1))\n",
    "    data=np.array(data)\n",
    "\n",
    "    return data"
   ]
  },
  {
   "cell_type": "code",
   "execution_count": 32,
   "id": "8d2f2c50",
   "metadata": {},
   "outputs": [
    {
     "name": "stdout",
     "output_type": "stream",
     "text": [
      "ROA, ROE, EPS, BPS, DPS, PER, PBR\n"
     ]
    },
    {
     "data": {
      "text/plain": [
       "array([[0.20583376, 0.19028616, 0.08640616, 0.09947715, 0.1364887 ,\n",
       "        0.11447439, 0.0689323 , 0.09810126],\n",
       "       [0.20697469, 0.19337995, 0.08560732, 0.09841394, 0.13712935,\n",
       "        0.11447148, 0.06767806, 0.09634519],\n",
       "       [0.14222   , 0.15803972, 0.08306005, 0.10076869, 0.15155967,\n",
       "        0.1404098 , 0.08935645, 0.13458562],\n",
       "       [0.08563524, 0.10446724, 0.11092883, 0.11648   , 0.12890954,\n",
       "        0.14337273, 0.14950031, 0.1607061 ],\n",
       "       [0.06692913, 0.11149606, 0.11149606, 0.23574804, 0.11370078,\n",
       "        0.11976378, 0.12070866, 0.12015748],\n",
       "       [0.08909108, 0.06084731, 0.16709316, 0.19988626, 0.12842384,\n",
       "        0.09809497, 0.1542034 , 0.10235997],\n",
       "       [0.15344377, 0.09590236, 0.1299041 , 0.17959896, 0.15693113,\n",
       "        0.09938972, 0.09590236, 0.08892764]], dtype=float32)"
      ]
     },
     "execution_count": 32,
     "metadata": {},
     "output_type": "execute_result"
    }
   ],
   "source": [
    "StockNormIdx('005930')"
   ]
  },
  {
   "cell_type": "code",
   "execution_count": null,
   "id": "7d9c5bc5",
   "metadata": {},
   "outputs": [],
   "source": []
  }
 ],
 "metadata": {
  "kernelspec": {
   "display_name": "Python 3 (ipykernel)",
   "language": "python",
   "name": "python3"
  },
  "language_info": {
   "codemirror_mode": {
    "name": "ipython",
    "version": 3
   },
   "file_extension": ".py",
   "mimetype": "text/x-python",
   "name": "python",
   "nbconvert_exporter": "python",
   "pygments_lexer": "ipython3",
   "version": "3.10.2"
  }
 },
 "nbformat": 4,
 "nbformat_minor": 5
}
