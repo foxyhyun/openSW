{
 "cells": [
  {
   "cell_type": "code",
   "execution_count": 14,
   "id": "ae29b24e",
   "metadata": {},
   "outputs": [],
   "source": [
    "import tensorflow as tf\n",
    "import numpy as np\n",
    "from tensorflow.keras import models\n",
    "from tensorflow.keras.models import load_model\n",
    "import pandas as pd\n",
    "import requests\n",
    "import urllib\n",
    "from urllib.request import urlopen\n",
    "from bs4 import BeautifulSoup as bs\n",
    "import matplotlib.pyplot as plt"
   ]
  },
  {
   "cell_type": "code",
   "execution_count": 6,
   "id": "1474d5b7",
   "metadata": {},
   "outputs": [],
   "source": [
    "dmodel = load_model('dailymodel.h5')\n",
    "wmodel = load_model('weeklymodel.h5')\n",
    "mmodel = load_model('monthlymodel.h5')"
   ]
  },
  {
   "cell_type": "code",
   "execution_count": 16,
   "id": "60b4bc9a",
   "metadata": {},
   "outputs": [
    {
     "name": "stdout",
     "output_type": "stream",
     "text": [
      "005930\n"
     ]
    }
   ],
   "source": [
    "coid = input()"
   ]
  },
  {
   "cell_type": "code",
   "execution_count": 20,
   "id": "d24c450d",
   "metadata": {},
   "outputs": [
    {
     "name": "stdout",
     "output_type": "stream",
     "text": [
      "            날짜         종가      전일비         시가         고가         저가  \\\n",
      "1   2023.01.11    60800.0    400.0    61000.0    61200.0    60700.0   \n",
      "2   2023.01.10    60400.0    300.0    60200.0    61100.0    59900.0   \n",
      "3   2023.01.09    60700.0   1700.0    59700.0    60700.0    59600.0   \n",
      "4   2023.01.06    59000.0    800.0    58300.0    59400.0    57900.0   \n",
      "5   2023.01.05    58200.0    400.0    58200.0    58800.0    57600.0   \n",
      "..         ...        ...      ...        ...        ...        ...   \n",
      "9   2018.03.08  2460000.0  29000.0  2460000.0  2474000.0  2404000.0   \n",
      "10  2018.03.07  2431000.0  80000.0  2410000.0  2445000.0  2361000.0   \n",
      "11  2018.03.06  2351000.0  91000.0  2296000.0  2355000.0  2291000.0   \n",
      "12  2018.03.05  2260000.0  41000.0  2291000.0  2308000.0  2254000.0   \n",
      "13  2018.03.02  2301000.0  52000.0  2329000.0  2340000.0  2300000.0   \n",
      "\n",
      "           거래량  \n",
      "1    3117346.0  \n",
      "2   14859797.0  \n",
      "3   18640107.0  \n",
      "4   17334989.0  \n",
      "5   15682826.0  \n",
      "..         ...  \n",
      "9     389273.0  \n",
      "10    428541.0  \n",
      "11    308467.0  \n",
      "12    282019.0  \n",
      "13    265310.0  \n",
      "\n",
      "[1200 rows x 7 columns]\n"
     ]
    },
    {
     "data": {
      "text/plain": [
       "array([['2023.01.11', 60800.0, 400.0, ..., 61200.0, 60700.0, 3117346.0],\n",
       "       ['2023.01.10', 60400.0, 300.0, ..., 61100.0, 59900.0, 14859797.0],\n",
       "       ['2023.01.09', 60700.0, 1700.0, ..., 60700.0, 59600.0, 18640107.0],\n",
       "       ...,\n",
       "       ['2018.03.06', 2351000.0, 91000.0, ..., 2355000.0, 2291000.0,\n",
       "        308467.0],\n",
       "       ['2018.03.05', 2260000.0, 41000.0, ..., 2308000.0, 2254000.0,\n",
       "        282019.0],\n",
       "       ['2018.03.02', 2301000.0, 52000.0, ..., 2340000.0, 2300000.0,\n",
       "        265310.0]], dtype=object)"
      ]
     },
     "execution_count": 20,
     "metadata": {},
     "output_type": "execute_result"
    }
   ],
   "source": [
    "headers = {'User-Agent': 'Mozilla/5.0 (Windows NT 10.0; Win64; x64) AppleWebKit/537.36 (KHTML, like Gecko) Chrome/86.0.4240.272 Whale/2.9.118.16 Safari/537.36',\n",
    "    'Accept': 'text/html,application/xhtml+xml,application/xml;q=0.9,*/*;q=0.8',\n",
    "    'Accept-Charset': 'ISO-8859-1,utf-8;q=0.7,*;q=0.3',\n",
    "    'Accept-Encoding': 'none',\n",
    "    'Accept-Language': 'en-US,en;q=0.8',\n",
    "    'Connection': 'keep-alive'}\n",
    "url = \"https://finance.naver.com/item/sise_day.nhn?code=%s\"%(coid)\n",
    "df = pd.DataFrame()\n",
    "for i in range(1, 121):\n",
    "    page_url = '{}&page={}'.format(url, i)\n",
    "    req = urllib.request.Request(page_url, headers=headers)\n",
    "    response = urllib.request.urlopen(req)\n",
    "    html = bs(response.read(), 'lxml')    \n",
    "    df = pd.concat([df, pd.read_html(str(html), header=0)[0]])\n",
    "df = df.dropna()\n",
    "print(df)"
   ]
  },
  {
   "cell_type": "code",
   "execution_count": 49,
   "id": "11d20de5",
   "metadata": {},
   "outputs": [
    {
     "name": "stdout",
     "output_type": "stream",
     "text": [
      "[[2301000.]\n",
      " [2260000.]\n",
      " [2351000.]\n",
      " ...\n",
      " [  60700.]\n",
      " [  60400.]\n",
      " [  60800.]]\n",
      "(1147, 1)\n"
     ]
    }
   ],
   "source": [
    "arr = df.to_numpy()\n",
    "arr = arr[:,1].reshape(-1,1)\n",
    "temp = [[0] * len(arr[0]) for _ in range(len(arr))]\n",
    "for i in range(len(arr)):\n",
    "    temp[i] = arr[len(arr)-1-i]\n",
    "temp = np.array(temp).astype(float)\n",
    "print(temp)\n",
    "arr = temp[-1147:]\n",
    "print(arr.shape)"
   ]
  },
  {
   "cell_type": "code",
   "execution_count": null,
   "id": "acf027e7",
   "metadata": {},
   "outputs": [],
   "source": []
  }
 ],
 "metadata": {
  "kernelspec": {
   "display_name": "Python 3 (ipykernel)",
   "language": "python",
   "name": "python3"
  },
  "language_info": {
   "codemirror_mode": {
    "name": "ipython",
    "version": 3
   },
   "file_extension": ".py",
   "mimetype": "text/x-python",
   "name": "python",
   "nbconvert_exporter": "python",
   "pygments_lexer": "ipython3",
   "version": "3.9.13"
  }
 },
 "nbformat": 4,
 "nbformat_minor": 5
}
