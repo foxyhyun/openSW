{
 "cells": [
  {
   "cell_type": "code",
   "execution_count": 1,
   "id": "df3cb47a",
   "metadata": {},
   "outputs": [],
   "source": [
    "import ipywidgets as widgets\n",
    "from IPython.display import display, clear_output\n",
    "import warnings\n",
    "import FinanceDataReader as fdr\n",
    "import matplotlib.pyplot as plt\n",
    "from matplotlib.figure import Figure\n",
    "import pandas as pd\n",
    "import numpy as np\n",
    "\n",
    "warnings.filterwarnings('ignore')"
   ]
  },
  {
   "cell_type": "code",
   "execution_count": 27,
   "id": "0bceae04",
   "metadata": {},
   "outputs": [
    {
     "name": "stdout",
     "output_type": "stream",
     "text": [
      "Collecting finance-datareader\n",
      "  Downloading finance_datareader-0.9.50-py3-none-any.whl (19 kB)\n",
      "Requirement already satisfied: pandas>=0.19.2 in /Users/foxyhyun/miniconda3/envs/tensorflow/lib/python3.9/site-packages (from finance-datareader) (1.5.2)\n",
      "Requirement already satisfied: tqdm in /Users/foxyhyun/miniconda3/envs/tensorflow/lib/python3.9/site-packages (from finance-datareader) (4.64.1)\n",
      "Requirement already satisfied: requests>=2.3.0 in /Users/foxyhyun/miniconda3/envs/tensorflow/lib/python3.9/site-packages (from finance-datareader) (2.28.1)\n",
      "Collecting requests-file\n",
      "  Downloading requests_file-1.5.1-py2.py3-none-any.whl (3.7 kB)\n",
      "Requirement already satisfied: lxml in /Users/foxyhyun/miniconda3/envs/tensorflow/lib/python3.9/site-packages (from finance-datareader) (4.9.1)\n",
      "Requirement already satisfied: python-dateutil>=2.8.1 in /Users/foxyhyun/miniconda3/envs/tensorflow/lib/python3.9/site-packages (from pandas>=0.19.2->finance-datareader) (2.8.2)\n",
      "Requirement already satisfied: pytz>=2020.1 in /Users/foxyhyun/miniconda3/envs/tensorflow/lib/python3.9/site-packages (from pandas>=0.19.2->finance-datareader) (2022.7)\n",
      "Requirement already satisfied: numpy>=1.20.3 in /Users/foxyhyun/miniconda3/envs/tensorflow/lib/python3.9/site-packages (from pandas>=0.19.2->finance-datareader) (1.23.5)\n",
      "Requirement already satisfied: certifi>=2017.4.17 in /Users/foxyhyun/miniconda3/envs/tensorflow/lib/python3.9/site-packages (from requests>=2.3.0->finance-datareader) (2022.12.7)\n",
      "Requirement already satisfied: charset-normalizer<3,>=2 in /Users/foxyhyun/miniconda3/envs/tensorflow/lib/python3.9/site-packages (from requests>=2.3.0->finance-datareader) (2.0.4)\n",
      "Requirement already satisfied: urllib3<1.27,>=1.21.1 in /Users/foxyhyun/miniconda3/envs/tensorflow/lib/python3.9/site-packages (from requests>=2.3.0->finance-datareader) (1.26.13)\n",
      "Requirement already satisfied: idna<4,>=2.5 in /Users/foxyhyun/miniconda3/envs/tensorflow/lib/python3.9/site-packages (from requests>=2.3.0->finance-datareader) (3.4)\n",
      "Requirement already satisfied: six in /Users/foxyhyun/miniconda3/envs/tensorflow/lib/python3.9/site-packages (from requests-file->finance-datareader) (1.16.0)\n",
      "Installing collected packages: requests-file, finance-datareader\n",
      "Successfully installed finance-datareader-0.9.50 requests-file-1.5.1\n"
     ]
    }
   ],
   "source": [
    "!pip install finance-datareader"
   ]
  },
  {
   "cell_type": "code",
   "execution_count": 2,
   "id": "b7c42a72",
   "metadata": {},
   "outputs": [],
   "source": [
    "start_date = widgets.DatePicker(description='시작일')\n",
    "end_date = widgets.DatePicker(description='종료일')"
   ]
  },
  {
   "cell_type": "code",
   "execution_count": 3,
   "id": "3bb73b54",
   "metadata": {},
   "outputs": [],
   "source": [
    "class PatternFinder():\n",
    "    def __init__(self, period=5):\n",
    "        self.period = period\n",
    "    \n",
    "    def set_stock(self, code: str):\n",
    "        self.code = code\n",
    "        self.data = fdr.DataReader(code)\n",
    "        self.close = self.data['Close']\n",
    "        self.change = self.data['Change']\n",
    "        return self.data\n",
    "        \n",
    "    def search(self, start_date, end_date, threshold=0.98):\n",
    "        base = self.close[start_date:end_date]\n",
    "        self.base_norm = (base - base.min()) / (base.max() - base.min())\n",
    "        self.base = base\n",
    "        \n",
    "        display(base)\n",
    "        \n",
    "        window_size = len(base)\n",
    "        moving_cnt = len(self.data) - window_size - self.period - 1\n",
    "        cos_sims = self.__cosine_sims(moving_cnt, window_size)\n",
    "        \n",
    "        self.window_size = window_size\n",
    "        cos_sims = cos_sims[cos_sims > threshold]\n",
    "        return cos_sims\n",
    "    \n",
    "    \n",
    "    def __cosine_sims(self, moving_cnt, window_size):\n",
    "        def cosine_similarity(x, y):\n",
    "            return np.dot(x, y) / (np.sqrt(np.dot(x, x)) * np.sqrt(np.dot(y, y)))\n",
    "        \n",
    "        # 유사도 저장 딕셔너리\n",
    "        sim_list = []\n",
    "\n",
    "        for i in range(moving_cnt):\n",
    "            target = self.close[i:i+window_size]\n",
    "\n",
    "            # Normalize\n",
    "            target_norm = (target - target.min()) / (target.max() - target.min())\n",
    "\n",
    "            # 코사인 유사도 저장\n",
    "            cos_similarity = cosine_similarity(self.base_norm, target_norm)\n",
    "\n",
    "            # 코사인 유사도 <- i(인덱스), 시계열데이터 함께 저장\n",
    "            sim_list.append(cos_similarity)\n",
    "        return pd.Series(sim_list).sort_values(ascending=False)\n",
    "\n",
    "    \n",
    "    def plot_pattern(self, idx, period=5):\n",
    "        if period != self.period:\n",
    "            self.period = period\n",
    "            \n",
    "        top = self.close[idx:idx+self.window_size+period]\n",
    "        top_norm = (top - top.min()) / (top.max() - top.min())\n",
    "\n",
    "        plt.plot(self.base_norm.values, label='base')\n",
    "        plt.plot(top_norm.values, label='target')\n",
    "        plt.axvline(x=len(self.base_norm)-1, c='r', linestyle='--')\n",
    "        plt.axvspan(len(self.base_norm.values)-1, len(top_norm.values)-1, facecolor='yellow', alpha=0.3)\n",
    "        plt.legend()\n",
    "        plt.show()\n",
    "        \n",
    "        \n",
    "        preds = self.change[idx+self.window_size: idx+self.window_size+period]\n",
    "        display(preds)\n",
    "        print(f'pred: {preds.mean()*100} % ')\n",
    "\n",
    "    \n",
    "    def stat_prediction(self, result, period=5):\n",
    "        idx_list = list(result.keys())\n",
    "        mean_list = []\n",
    "        for idx in idx_list:\n",
    "            pred = self.change[idx+self.window_size: idx+self.window_size+period]\n",
    "            mean_list.append(pred.mean())\n",
    "        return np.array(mean_list)"
   ]
  },
  {
   "cell_type": "code",
   "execution_count": 4,
   "id": "08048e75",
   "metadata": {},
   "outputs": [],
   "source": [
    "p = PatternFinder()"
   ]
  },
  {
   "cell_type": "code",
   "execution_count": 5,
   "id": "4520c35e",
   "metadata": {},
   "outputs": [],
   "source": [
    "search_button = widgets.Button(\n",
    "                description='예측하기',\n",
    "                tooltip='Send',\n",
    "                style={'description_width': 'initial'}\n",
    "            )\n",
    "\n",
    "output = widgets.Output()\n",
    "\n",
    "def on_button_clicked(event):\n",
    "    with output:\n",
    "        clear_output()\n",
    "        p = PatternFinder()\n",
    "        p.set_stock(code.value)\n",
    "        result = p.search(start_date.value.strftime('%Y-%m-%d'), end_date.value.strftime('%Y-%m-%d'))\n",
    "        print(result)\n",
    "        for idx in result.keys():\n",
    "            p.plot_pattern(idx)\n",
    "        \n",
    "search_button.on_click(on_button_clicked)\n",
    "\n",
    "vbox_result = widgets.VBox([search_button, output])"
   ]
  },
  {
   "cell_type": "code",
   "execution_count": 6,
   "id": "6fea692e",
   "metadata": {},
   "outputs": [],
   "source": [
    "text_0 = widgets.HTML(value=\"종목 코드\")\n",
    "text_1 = widgets.HTML(value=\"날짜 선택\")\n",
    "text_2 = widgets.HTML(value=\"패턴 예측\")\n",
    "\n",
    "code = widgets.Text(placeholder='종목코드를 입력해 주세요')\n",
    "code.value = '035720'\n",
    "\n",
    "vbox_0 = widgets.VBox([text_0, code])\n",
    "vbox_1 = widgets.VBox([text_1,start_date, end_date ])\n",
    "vbox_2 = widgets.VBox([text_2, vbox_result])"
   ]
  },
  {
   "cell_type": "code",
   "execution_count": 7,
   "id": "9975e682",
   "metadata": {},
   "outputs": [
    {
     "data": {
      "application/vnd.jupyter.widget-view+json": {
       "model_id": "d6d1e5f76ef24bf58d9ac104cccb1ae4",
       "version_major": 2,
       "version_minor": 0
      },
      "text/plain": [
       "VBox(children=(VBox(children=(HTML(value='종목 코드'), Text(value='035720', placeholder='종목코드를 입력해 주세요'))), VBox(c…"
      ]
     },
     "metadata": {},
     "output_type": "display_data"
    }
   ],
   "source": [
    "page = widgets.VBox([vbox_0, vbox_1 , vbox_2])\n",
    "display(page)\n"
   ]
  },
  {
   "cell_type": "code",
   "execution_count": null,
   "id": "65e429cc",
   "metadata": {},
   "outputs": [],
   "source": []
  },
  {
   "cell_type": "code",
   "execution_count": null,
   "id": "3881a4fe",
   "metadata": {},
   "outputs": [],
   "source": []
  }
 ],
 "metadata": {
  "kernelspec": {
   "display_name": "Python 3.9 (tensorflow)",
   "language": "python",
   "name": "tensorflow"
  },
  "language_info": {
   "codemirror_mode": {
    "name": "ipython",
    "version": 3
   },
   "file_extension": ".py",
   "mimetype": "text/x-python",
   "name": "python",
   "nbconvert_exporter": "python",
   "pygments_lexer": "ipython3",
   "version": "3.9.15"
  }
 },
 "nbformat": 4,
 "nbformat_minor": 5
}
