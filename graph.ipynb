{
 "cells": [
  {
   "cell_type": "markdown",
   "id": "0fec129b",
   "metadata": {},
   "source": [
    "# Plotly 사용하여 주식 차트 그리기"
   ]
  },
  {
   "cell_type": "code",
   "execution_count": 13,
   "id": "d083305c",
   "metadata": {},
   "outputs": [],
   "source": [
    "from plotly.subplots import make_subplots\n",
    "import plotly.graph_objects as go"
   ]
  },
  {
   "cell_type": "markdown",
   "id": "f3101d81",
   "metadata": {},
   "source": [
    "# 데이터 추가해서 이부분 추가하면 주식 그래프 모양처럼 잘 나옴"
   ]
  },
  {
   "cell_type": "code",
   "execution_count": 14,
   "id": "e4b69b98",
   "metadata": {},
   "outputs": [
    {
     "ename": "NameError",
     "evalue": "name 'samsung' is not defined",
     "output_type": "error",
     "traceback": [
      "\u001b[0;31m---------------------------------------------------------------------------\u001b[0m",
      "\u001b[0;31mNameError\u001b[0m                                 Traceback (most recent call last)",
      "Cell \u001b[0;32mIn[14], line 1\u001b[0m\n\u001b[0;32m----> 1\u001b[0m samsung \u001b[38;5;241m=\u001b[39m \u001b[43msamsung\u001b[49m\u001b[38;5;241m.\u001b[39mreset_index()\n",
      "\u001b[0;31mNameError\u001b[0m: name 'samsung' is not defined"
     ]
    }
   ],
   "source": [
    "# Date index를 Column으로 보내주기 위함\n",
    "samsung 데이터 = samsung.reset_index()\n",
    "종목이름 = '삼성전자'\n",
    "삼성['Date'] = samsung['Date'].apply(lambda x : datetime.strftime(x,'%Y-%m-%d'))\n",
    "fig = go.Figure(data=[go.Candlestick(\n",
    "    x = samsung['Date'],\n",
    "    open = saumsung['Open'],\n",
    "    high = saumsung['High'],\n",
    "    low = samsung['Low'],\n",
    "    close = samsung['Close']\n",
    ")])\n",
    "\n",
    "fig.layout = dict(\n",
    "    title = stock_name,\n",
    "    xaxis = dict(type=\"category\",\n",
    "    categoryorder = 'category ascending'\n",
    "                ))\n",
    "fig.update_xaxes(nticks=5)\n",
    "fig.show()"
   ]
  },
  {
   "cell_type": "code",
   "execution_count": null,
   "id": "e92a162b",
   "metadata": {},
   "outputs": [],
   "source": []
  }
 ],
 "metadata": {
  "kernelspec": {
   "display_name": "Python 3.9 (tensorflow)",
   "language": "python",
   "name": "tensorflow"
  },
  "language_info": {
   "codemirror_mode": {
    "name": "ipython",
    "version": 3
   },
   "file_extension": ".py",
   "mimetype": "text/x-python",
   "name": "python",
   "nbconvert_exporter": "python",
   "pygments_lexer": "ipython3",
   "version": "3.9.15"
  }
 },
 "nbformat": 4,
 "nbformat_minor": 5
}
