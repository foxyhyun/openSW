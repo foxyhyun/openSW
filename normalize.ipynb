{
 "cells": [
  {
   "cell_type": "code",
   "execution_count": null,
   "id": "e3472a39",
   "metadata": {},
   "outputs": [],
   "source": [
    "def normalize_scale(inp):# 환율데이터 표본적어서 *10\n",
    "    result = []\n",
    "    for i in inp:\n",
    "        result.append(((i-np.mean(inp))/np.var(inp))*10)\n",
    "    return result\n",
    "\n",
    "def normalize(inp):# *10안함\n",
    "    result = []\n",
    "    for i in inp:\n",
    "        result.append(((i-np.mean(inp))/np.var(inp)))\n",
    "    return result"
   ]
  }
 ],
 "metadata": {
  "kernelspec": {
   "display_name": "Python 3 (ipykernel)",
   "language": "python",
   "name": "python3"
  },
  "language_info": {
   "codemirror_mode": {
    "name": "ipython",
    "version": 3
   },
   "file_extension": ".py",
   "mimetype": "text/x-python",
   "name": "python",
   "nbconvert_exporter": "python",
   "pygments_lexer": "ipython3",
   "version": "3.9.13"
  }
 },
 "nbformat": 4,
 "nbformat_minor": 5
}
