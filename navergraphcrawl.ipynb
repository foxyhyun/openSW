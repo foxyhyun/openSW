{
 "cells": [
  {
   "cell_type": "code",
   "execution_count": null,
   "id": "8ac78a67",
   "metadata": {},
   "outputs": [],
   "source": [
    "headers = {'User-Agent': 'Mozilla/5.0 (Windows NT 10.0; Win64; x64) AppleWebKit/537.36 (KHTML, like Gecko) Chrome/86.0.4240.272 Whale/2.9.118.16 Safari/537.36',\n",
    "    'Accept': 'text/html,application/xhtml+xml,application/xml;q=0.9,*/*;q=0.8',\n",
    "    'Accept-Charset': 'ISO-8859-1,utf-8;q=0.7,*;q=0.3',\n",
    "    'Accept-Encoding': 'none',\n",
    "    'Accept-Language': 'en-US,en;q=0.8',\n",
    "    'Connection': 'keep-alive'}\n",
    "url = \"https://finance.naver.com/item/sise_day.nhn?code=001570\"\n",
    "df = pd.DataFrame()\n",
    "page_url = '{}&page={}'.format(url, 1)\n",
    "req = urllib.request.Request(page_url, headers=headers)\n",
    "response = urllib.request.urlopen(req)\n",
    "html = BeautifulSoup(response.read(), 'lxml')\n",
    "td_pgrr = html.find('td', class_='pgRR')\n",
    "s = td_pgrr.a['href'].split('=')\n",
    "last_page = s[-1] \n",
    "print(last_page)\n",
    "df = pd.DataFrame()\n",
    "for i in range(1, int(last_page)+1):\n",
    "    page_url = '{}&page={}'.format(url, i)\n",
    "    req = urllib.request.Request(page_url, headers=headers)\n",
    "    response = urllib.request.urlopen(req)\n",
    "    html = BeautifulSoup(response.read(), 'lxml')    \n",
    "    df = pd.concat([df, pd.read_html(str(html), header=0)[0]])\n",
    "df = df.dropna()\n",
    "print(df)\n",
    "df.to_csv('./data_in/keumyang.csv', encoding='cp949')"
   ]
  },
  {
   "cell_type": "code",
   "execution_count": null,
   "id": "ecd90b27",
   "metadata": {},
   "outputs": [],
   "source": [
    "df.iloc[1149]"
   ]
  }
 ],
 "metadata": {
  "kernelspec": {
   "display_name": "Python 3 (ipykernel)",
   "language": "python",
   "name": "python3"
  },
  "language_info": {
   "codemirror_mode": {
    "name": "ipython",
    "version": 3
   },
   "file_extension": ".py",
   "mimetype": "text/x-python",
   "name": "python",
   "nbconvert_exporter": "python",
   "pygments_lexer": "ipython3",
   "version": "3.9.13"
  }
 },
 "nbformat": 4,
 "nbformat_minor": 5
}
