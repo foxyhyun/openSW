{
 "cells": [
  {
   "cell_type": "code",
   "execution_count": null,
   "id": "08672098",
   "metadata": {},
   "outputs": [],
   "source": [
    "import tensorflow as tf\n",
    "import numpy as np\n",
    "import pandas as pd\n",
    "import matplotlib.pyplot as plt\n",
    "import re\n",
    "import json\n",
    "import requests\n",
    "import openpyxl\n",
    "from openpyxl import Workbook\n",
    "from bs4 import BeautifulSoup\n",
    "from openpyxl.utils.dataframe import dataframe_to_rows\n",
    "from tensorflow.keras import layers\n",
    "from nltk.corpus import stopwords\n",
    "from konlpy.tag import Okt\n",
    "from tensorflow.python.keras.preprocessing.sequence import pad_sequences\n",
    "from tensorflow.python.keras.preprocessing.text import Tokenizer"
   ]
  },
  {
   "cell_type": "markdown",
   "id": "84c999da",
   "metadata": {},
   "source": [
    "# 환율 계산 셀(exchange) "
   ]
  },
  {
   "cell_type": "code",
   "execution_count": null,
   "id": "77d8e6f8",
   "metadata": {},
   "outputs": [],
   "source": [
    "exchange = "
   ]
  },
  {
   "cell_type": "markdown",
   "id": "32a76b4b",
   "metadata": {},
   "source": [
    "# 재무제표 계산 셀(financial) "
   ]
  },
  {
   "cell_type": "code",
   "execution_count": null,
   "id": "138aac5e",
   "metadata": {},
   "outputs": [],
   "source": []
  },
  {
   "cell_type": "markdown",
   "id": "bdba9929",
   "metadata": {},
   "source": [
    "# 유망주(삼성) 크롤링 "
   ]
  },
  {
   "cell_type": "code",
   "execution_count": null,
   "id": "c80ce8c6",
   "metadata": {},
   "outputs": [],
   "source": [
    "target = '삼성전자'\n",
    "wb = Workbook()\n",
    "sheet = wb.active\n",
    "sheet.append(['발행일','언론사','기사제목','URL','내용'])\n",
    "\n",
    "headers = { \"User-Agent\": \"Mozilla/5.0 (Windows NT 10.0; Win64; x64) Chrome/98.0.4758.102\" }"
   ]
  },
  {
   "cell_type": "code",
   "execution_count": null,
   "id": "0dd9dee2",
   "metadata": {},
   "outputs": [],
   "source": [
    "response = requests.get(f'https://search.naver.com/search.naver?where=news&sm=tab_jum&query={target}', headers=headers)\n",
    "html = response.text\n",
    "soup = BeautifulSoup(html, 'html.parser')\n",
    "samsung_news = soup.select('div.news_wrap.api_ani_send')"
   ]
  },
  {
   "cell_type": "code",
   "execution_count": null,
   "id": "48f08aa6",
   "metadata": {},
   "outputs": [],
   "source": [
    "samsung_news"
   ]
  },
  {
   "cell_type": "code",
   "execution_count": null,
   "id": "55c565f0",
   "metadata": {},
   "outputs": [],
   "source": [
    "# 필요없는 부분 다 떼고 본문만 남기기"
   ]
  },
  {
   "cell_type": "markdown",
   "id": "2af074e8",
   "metadata": {},
   "source": [
    "# 주가 예측 "
   ]
  },
  {
   "cell_type": "code",
   "execution_count": null,
   "id": "087463fa",
   "metadata": {},
   "outputs": [],
   "source": [
    "# 전처리\n",
    "DATA_IN_PATH = './data_in/'\n",
    "\n",
    "train_data = pd.read_csv(DATA_IN_PATH + 'train.txt', header=0, delimiter='\\t', quoting=3)"
   ]
  },
  {
   "cell_type": "code",
   "execution_count": null,
   "id": "b7f420e3",
   "metadata": {},
   "outputs": [],
   "source": [
    "def preprocessing(review, okt, remove_stopwords = False, stop_words = []):\n",
    "    \n",
    "    # 1. 한글 및 공백을 제외한 문자 모두 제거.\n",
    "    review_text = re.sub(\"[^가-힣ㄱ-ㅎㅏ-ㅣ\\\\s]\", \"\", review)\n",
    "    \n",
    "    # 2. okt 객체를 활용해서 형태소 단위로 나눈다.\n",
    "    word_review = okt.morphs(review_text, stem=True)\n",
    "    \n",
    "    if remove_stopwords:\n",
    "        \n",
    "        # 불용어 제거(선택적)\n",
    "        word_review = [token for token in word_review if not token in stop_words]\n",
    "        \n",
    "   \n",
    "    return word_review"
   ]
  },
  {
   "cell_type": "code",
   "execution_count": null,
   "id": "ed6c6e7d",
   "metadata": {},
   "outputs": [],
   "source": [
    "stop_words = [ '은', '는', '이', '가', '하', '아', '것', '들','의', '있', '되', '수', '보', '주', '등', '한']\n",
    "okt = Okt()\n",
    "clean_train_review = []\n",
    "\n",
    "for review in train_data['document']:\n",
    "    # 비어있는 데이터에서 멈추지 않도록 string인 경우만 진행\n",
    "    if type(review) == str:\n",
    "        clean_train_review.append(preprocessing(review, okt, remove_stopwords = True, stop_words=stop_words))\n",
    "    else:\n",
    "        clean_train_review.append([])  #string이 아니면 비어있는 값 추가"
   ]
  },
  {
   "cell_type": "code",
   "execution_count": null,
   "id": "baae76ed",
   "metadata": {},
   "outputs": [],
   "source": [
    "tokenizer = Tokenizer()\n",
    "tokenizer.fit_on_texts(clean_train_review)\n",
    "train_sequences = tokenizer.texts_to_sequences(clean_train_review)\n",
    "\n",
    "word_vocab = tokenizer.word_index # 단어 사전 형태\n",
    "word_vocab[\"<PAD>\"] = 0"
   ]
  },
  {
   "cell_type": "code",
   "execution_count": null,
   "id": "c66524a3",
   "metadata": {},
   "outputs": [],
   "source": [
    "MAX_SEQUENCE_LENGTH = 8 # 문장 최대 길이\n",
    "\n",
    "train_inputs = pad_sequences(train_sequences, maxlen=MAX_SEQUENCE_LENGTH, padding='post') # 학습 데이터를 벡터화\n",
    "train_labels = np.array(train_data['label']) # 학습 데이터의 라벨"
   ]
  },
  {
   "cell_type": "code",
   "execution_count": null,
   "id": "c1c3e085",
   "metadata": {},
   "outputs": [],
   "source": [
    "bluechip_model = Sequential([\n",
    "    layers.Embedding(vocab_size, 10, input_length=1)\n",
    "    layers.LSTM(50, return_sequences=True)\n",
    "    layers.LSTM(50)\n",
    "    layers.Dropout(0.3)\n",
    "    layers.Dense(512)\n",
    "    layers.Dense(output_size, activation='softmax')\n",
    "]) \n",
    "bluchip_model.compile(optimizer='adam', loss='sparse_categorical_crossentropy', metrics='accuracy')\n",
    "\n",
    "promising_model = Sequential([\n",
    "    layers.Embedding(vocab_size, 10, input_length=1)\n",
    "    layers.LSTM(50, return_sequences=True)\n",
    "    layers.LSTM(50)\n",
    "    layers.Dropout(0.3)\n",
    "    layers.Dense(512)\n",
    "    layers.Dense(output_size, activation='softmax')\n",
    "]) \n",
    "promising_model.compile(optimizer='adam', loss='sparse_categorical_crossentropy', metrics='accuracy')\n",
    "\n",
    "bhistory = bluechip_model.fit(train_inputs, train_labels, batch_size=32, epochs=10)\n",
    "phistory = promising_model.fit(train_inputs, train_labels, batch_size=32, epochs=10)"
   ]
  },
  {
   "cell_type": "code",
   "execution_count": null,
   "id": "124caacd",
   "metadata": {},
   "outputs": [],
   "source": [
    "# 환율 가중치\n",
    "exw = \n",
    "# 재무제표 가중치\n",
    "fw =\n",
    "# 모델 가중치\n",
    "w ="
   ]
  },
  {
   "cell_type": "code",
   "execution_count": null,
   "id": "26c684c8",
   "metadata": {},
   "outputs": [],
   "source": [
    "s = input(\"메뉴선택 (우량주 검색-1, 유망주 검색-2) : \")\n",
    "if s==0:\n",
    "    forecast = exw * exchange + fw * financial + w * bluechip_model.predict(inputs)\n",
    "elif s==1:\n",
    "    forecast = exw * exchange + fw * financial + w * promising_model.predict(inputs)"
   ]
  }
 ],
 "metadata": {
  "kernelspec": {
   "display_name": "Python 3 (ipykernel)",
   "language": "python",
   "name": "python3"
  },
  "language_info": {
   "codemirror_mode": {
    "name": "ipython",
    "version": 3
   },
   "file_extension": ".py",
   "mimetype": "text/x-python",
   "name": "python",
   "nbconvert_exporter": "python",
   "pygments_lexer": "ipython3",
   "version": "3.9.13"
  }
 },
 "nbformat": 4,
 "nbformat_minor": 5
}
