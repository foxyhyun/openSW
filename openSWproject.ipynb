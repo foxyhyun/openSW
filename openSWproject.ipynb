{
 "cells": [
  {
   "cell_type": "code",
   "execution_count": 262,
   "id": "5514cc62",
   "metadata": {},
   "outputs": [],
   "source": [
    "import tensorflow as tf\n",
    "import numpy as np\n",
    "import pandas as pd\n",
    "import matplotlib.pyplot as plt\n",
    "import re\n",
    "import json\n",
    "import requests\n",
    "import openpyxl\n",
    "import urllib\n",
    "from urllib import parse\n",
    "import lxml\n",
    "from openpyxl import Workbook\n",
    "from bs4 import BeautifulSoup\n",
    "from openpyxl.utils.dataframe import dataframe_to_rows\n",
    "from tensorflow.keras import layers\n",
    "from nltk.corpus import stopwords\n",
    "from konlpy.tag import Okt\n",
    "from tensorflow.keras.preprocessing.sequence import pad_sequences\n",
    "from tensorflow.keras.preprocessing.text import Tokenizer\n",
    "import time\n",
    "from selenium import webdriver\n",
    "from selenium.webdriver.common.by import By\n",
    "import webdriver_manager\n",
    "from webdriver_manager.chrome import ChromeDriverManager\n",
    "from selenium.webdriver.chrome.service import Service\n",
    "\n",
    "#웹드라이버 설정\n",
    "options = webdriver.ChromeOptions()\n",
    "options.add_experimental_option(\"excludeSwitches\", [\"enable-automation\"])\n",
    "options.add_experimental_option(\"useAutomationExtension\", False)"
   ]
  },
  {
   "cell_type": "code",
   "execution_count": 263,
   "id": "9d1c7ea3",
   "metadata": {},
   "outputs": [],
   "source": [
    "def StockNormIdx(code):\n",
    "    get_param = {\n",
    "        'pGB':1,\n",
    "        'gicode':'A%s'%(code),\n",
    "        'cID':'',\n",
    "        'MenuYn':'Y',\n",
    "        'ReportGB':'',\n",
    "        'NewMenuID':101,\n",
    "        'stkGb':701,\n",
    "    }\n",
    "    get_param = parse.urlencode(get_param)\n",
    "    url=\"http://comp.fnguide.com/SVO2/ASP/SVD_Main.asp?%s\"%(get_param)\n",
    "    tables = pd.read_html(url, header=0,encoding='utf-8')\n",
    "    sit=np.array(tables[11]) \n",
    "    print(\"ROA, ROE, EPS, BPS, DPS, PER, PBR\")\n",
    "    data=[]\n",
    "    ROE=np.array([])\n",
    "    for i in range(7):\n",
    "        ROE = sit[17+i][2:8].astype('float32')\n",
    "        data.append(ROE/np.linalg.norm(ROE, ord=1))\n",
    "    data=np.array(data)\n",
    "\n",
    "    return data"
   ]
  },
  {
   "cell_type": "markdown",
   "id": "0db9c48c",
   "metadata": {},
   "source": [
    "# 주가 예측 "
   ]
  },
  {
   "cell_type": "code",
   "execution_count": 272,
   "id": "6410c02f",
   "metadata": {},
   "outputs": [
    {
     "name": "stdout",
     "output_type": "stream",
     "text": [
      "ROA, ROE, EPS, BPS, DPS, PER, PBR\n",
      "[[0.27337417 0.1241352  0.14291361 0.19608617 0.16445936 0.09903143]\n",
      " [0.27757356 0.12287896 0.14126132 0.1968326  0.16430996 0.09714367]\n",
      " [0.21853007 0.11485163 0.13933831 0.20956977 0.19415222 0.12355801]\n",
      " [0.13861348 0.1471871  0.15455273 0.17104499 0.19023564 0.19836608]\n",
      " [0.13715614 0.13715614 0.29000387 0.13986827 0.14732662 0.14848895]\n",
      " [0.07525495 0.20665807 0.24721605 0.1588325  0.12132224 0.19071622]\n",
      " [0.1265823  0.17146146 0.2370541  0.20713465 0.13118528 0.1265823 ]]\n",
      "--------------\n",
      "[0.27337417 0.27757356 0.21853007 0.13861348 0.13715614 0.07525495\n",
      " 0.1265823 ]\n"
     ]
    }
   ],
   "source": [
    "data = StockNormIdx('005930')\n",
    "print(data)\n",
    "print('--------------')\n",
    "print(data[:,0])"
   ]
  },
  {
   "cell_type": "code",
   "execution_count": 298,
   "id": "ffde786e",
   "metadata": {
    "scrolled": true
   },
   "outputs": [
    {
     "name": "stdout",
     "output_type": "stream",
     "text": [
      "(1148, 1)\n"
     ]
    },
    {
     "name": "stderr",
     "output_type": "stream",
     "text": [
      "C:\\Users\\wjddu\\AppData\\Local\\Temp\\ipykernel_10064\\1246311570.py:1: DtypeWarning: Columns (0) have mixed types. Specify dtype option on import or set low_memory=False.\n",
      "  samsung = pd.read_csv('./data_in/samsung.csv')\n"
     ]
    }
   ],
   "source": [
    "samsung = pd.read_csv('./data_in/samsung.csv')\n",
    "sam = samsung[:][:1148]\n",
    "sa = np.array(sam)\n",
    "sa = sa[:,2].reshape(-1,1)\n",
    "print(sa.shape)\n",
    "sa2023 = sa[:-1147]\n",
    "sa2022 = sa[-1147:-901]\n",
    "sa2021 = sa[-901:-653]\n",
    "sa2020 = sa[-653:-405]\n",
    "sa2019 = sa[-405:-159]\n",
    "sa2018 = sa[-159:len(sa)]"
   ]
  },
  {
   "cell_type": "code",
   "execution_count": 299,
   "id": "1d9ef67e",
   "metadata": {},
   "outputs": [
    {
     "name": "stdout",
     "output_type": "stream",
     "text": [
      "(1148, 8)\n"
     ]
    }
   ],
   "source": [
    "data2023 = np.full((len(sa2023),7), data[:,5])\n",
    "data2022 = np.full((len(sa2022),7), data[:,4])\n",
    "data2021 = np.full((len(sa2021),7), data[:,3])\n",
    "data2020 = np.full((len(sa2020),7), data[:,2])\n",
    "data2019 = np.full((len(sa2019),7), data[:,1])\n",
    "data2018 = np.full((len(sa2018),7), data[:,0])\n",
    "data1 = data2023\n",
    "data1 = np.concatenate((data2023,data2022,data2021,data2020,data2019,data2018))\n",
    "sa = np.concatenate((sa, data1), axis=1)\n",
    "print(sa.shape)"
   ]
  }
 ],
 "metadata": {
  "kernelspec": {
   "display_name": "Python 3 (ipykernel)",
   "language": "python",
   "name": "python3"
  },
  "language_info": {
   "codemirror_mode": {
    "name": "ipython",
    "version": 3
   },
   "file_extension": ".py",
   "mimetype": "text/x-python",
   "name": "python",
   "nbconvert_exporter": "python",
   "pygments_lexer": "ipython3",
   "version": "3.9.13"
  }
 },
 "nbformat": 4,
 "nbformat_minor": 5
}
