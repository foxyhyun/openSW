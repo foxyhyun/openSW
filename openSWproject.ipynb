{
 "cells": [
  {
   "cell_type": "code",
   "execution_count": 24,
   "id": "5514cc62",
   "metadata": {},
   "outputs": [],
   "source": [
    "import tensorflow as tf\n",
    "import numpy as np\n",
    "import pandas as pd\n",
    "import matplotlib.pyplot as plt\n",
    "\n",
    "from bs4 import BeautifulSoup\n",
    "import re\n",
    "import json\n",
    "import requests\n",
    "import openpyxl\n",
    "import urllib\n",
    "from urllib import parse\n",
    "import lxml\n",
    "\n",
    "from tensorflow.keras import layers\n",
    "from tensorflow.keras.models import Sequential\n",
    "\n",
    "import time\n",
    "from sklearn.preprocessing import MinMaxScaler\n",
    "\n",
    "#웹드라이버 설정\n",
    "options = webdriver.ChromeOptions()\n",
    "options.add_experimental_option(\"excludeSwitches\", [\"enable-automation\"])\n",
    "options.add_experimental_option(\"useAutomationExtension\", False)"
   ]
  },
  {
   "cell_type": "code",
   "execution_count": 60,
   "id": "9d1c7ea3",
   "metadata": {},
   "outputs": [],
   "source": [
    "def normalize_scale(inp):# 환율데이터 표본적어서 *10\n",
    "    result = []\n",
    "    for i in inp:\n",
    "        result.append(((i-np.mean(inp))/np.var(inp))*10)\n",
    "    return result\n",
    "def normalize(inp):# *10안함\n",
    "    result = []\n",
    "    for i in inp:\n",
    "        result.append(((i-np.mean(inp))/np.var(inp)))\n",
    "    return result\n",
    "\n",
    "class Stock:\n",
    "    \n",
    "    Exchange='./Data/Exchange.csv' #객체가 공통으로 사용할 환율 데이터 (동적크롤링할줄몰라서 csv로 받아옴)\n",
    "    \n",
    "    def __init__(self,code):\n",
    "        self.code=code\n",
    "    \n",
    "    @staticmethod\n",
    "    def exchangeRate():  ##1달간격의 환율의 종가데이터  1행배열 57요소( 18.05.01~  23.01.01) 배열로 출력 SIZE(1,57)\n",
    "        csv = pd.read_csv(Stock.Exchange,encoding='utf8')\n",
    "        #print(csv)  환율 전체데이터 확인하기            \n",
    "        csv = np.array(csv)\n",
    "        data=[]\n",
    "        for i in range(len(csv)):   \n",
    "            fnum=\"\"\n",
    "            for j in csv[i][1]:\n",
    "                if(j == ','):\n",
    "                    continue\n",
    "                fnum+=j\n",
    "            data.append(float(fnum))\n",
    "        data = np.array(data)\n",
    "        data = data.astype('float32')\n",
    "        data = normalize_scale(data) \n",
    "        return data\n",
    "\n",
    "\n",
    "    def idxNorm(self):##ROA, ROE, EPS, BPS, DPS, PER, PBR의 각 항목당 (2018.12 ~ 2023.12)의 데이터 6개 갖음 SIZE(7,8)\n",
    "        get_param = {\n",
    "            'pGB':1,\n",
    "            'gicode':'A%s'%(self.code),\n",
    "            'cID':'',\n",
    "            'MenuYn':'Y',\n",
    "            'ReportGB':'',\n",
    "            'NewMenuID':101,\n",
    "            'stkGb':701,\n",
    "        }\n",
    "        get_param = parse.urlencode(get_param)\n",
    "        url=\"http://comp.fnguide.com/SVO2/ASP/SVD_Main.asp?%s\"%(get_param)\n",
    "        tables = pd.read_html(url, header=0,encoding='utf-8')\n",
    "        sit=np.array(tables[11]) \n",
    "        data=[]#정규화 시작\n",
    "        idx=np.array([])\n",
    "        for i in range(7):\n",
    "            idx = sit[17+i][2:8].astype('float32')\n",
    "            idx = normalize(idx)\n",
    "            data.append(idx)\n",
    "        data=np.array(data)\n",
    "        return data\n",
    "    \n",
    "    def priceList(self):\n",
    "        csv = pd.read_csv('./Data/주식가격/%s.csv'%(self.code))\n",
    "        cut_csv = csv[:][:1148]\n",
    "        arr = np.array(cut_csv)\n",
    "        array = arr[:,2]\n",
    "        array = array/1000\n",
    "        array = np.array(array)\n",
    "        close = array.reshape(-1,1)\n",
    "        return close\n",
    "\n",
    "    def showChart(self): ##종목코드의 제무재표를 나타내는 함수\n",
    "        get_param = {\n",
    "            'pGB':1,\n",
    "            'gicode':'A%s'%(self.code),\n",
    "            'cID':'',\n",
    "            'MenuYn':'Y',\n",
    "            'ReportGB':'',\n",
    "            'NewMenuID':101,\n",
    "            'stkGb':701,\n",
    "        }\n",
    "        get_param = parse.urlencode(get_param)\n",
    "        url=\"http://comp.fnguide.com/SVO2/ASP/SVD_Main.asp?%s\"%(get_param)\n",
    "        tables = pd.read_html(url, header=0,encoding='utf-8')\n",
    "        return tables[11]"
   ]
  },
  {
   "cell_type": "code",
   "execution_count": 61,
   "id": "385561e5",
   "metadata": {},
   "outputs": [
    {
     "name": "stdout",
     "output_type": "stream",
     "text": [
      "[200.0 -1300.0 -1500.0 ... 700.0 -1700.0 700.0]\n"
     ]
    },
    {
     "name": "stderr",
     "output_type": "stream",
     "text": [
      "C:\\Users\\wjddu\\AppData\\Local\\Temp\\ipykernel_11612\\3591967271.py:1: DtypeWarning: Columns (0) have mixed types. Specify dtype option on import or set low_memory=False.\n",
      "  csv = pd.read_csv('./Data/주식가격/005930.csv')\n"
     ]
    }
   ],
   "source": [
    "csv = pd.read_csv('./Data/주식가격/005930.csv')\n",
    "cut_csv = csv[:][:1148]\n",
    "arr = np.array(cut_csv)\n",
    "array = arr[:,2]\n",
    "print(array)"
   ]
  },
  {
   "cell_type": "code",
   "execution_count": 62,
   "id": "21e5c1b9",
   "metadata": {},
   "outputs": [],
   "source": [
    "def concatData(a, data):\n",
    "    a2023 = a[:-1147]\n",
    "    a2022 = a[-1147:-901]\n",
    "    a2021 = a[-901:-653]\n",
    "    a2020 = a[-653:-405]\n",
    "    a2019 = a[-405:-159]\n",
    "    a2018 = a[-159:len(sa)]\n",
    "    \n",
    "    data2023 = np.full((len(a2023),7), data[:,5])\n",
    "    data2022 = np.full((len(a2022),7), data[:,4])\n",
    "    data2021 = np.full((len(a2021),7), data[:,3])\n",
    "    data2020 = np.full((len(a2020),7), data[:,2])\n",
    "    data2019 = np.full((len(a2019),7), data[:,1])\n",
    "    data2018 = np.full((len(a2018),7), data[:,0])\n",
    "    \n",
    "    data1 = data2023\n",
    "    data1 = np.concatenate((np.full((len(a2023),7), data[:,5]),\n",
    "                            np.full((len(a2022),7), data[:,4]),\n",
    "                            np.full((len(a2021),7), data[:,3]),\n",
    "                            np.full((len(a2020),7), data[:,2]),\n",
    "                            np.full((len(a2019),7), data[:,1]),\n",
    "                            np.full((len(a2018),7), data[:,0])), axis=0)\n",
    "    arr = np.concatenate((a, data1), axis=1)\n",
    "    array = np.array(arr)\n",
    "    \n",
    "    er = Stock.exchangeRate()\n",
    "    er = np.array(er).reshape(-1, 1)\n",
    "    \n",
    "    exchange = np.full((1,1), er[-57])\n",
    "    exchange = np.concatenate((exchange, np.full((21,1), er[-56]),\n",
    "                               np.full((22,1), er[-55]),\n",
    "                               np.full((19,1), er[-54]),\n",
    "                               np.full((20,1), er[-53]),\n",
    "                               np.full((22,1), er[-52]),\n",
    "                               np.full((21,1), er[-51]),\n",
    "                               np.full((20,1), er[-50]),\n",
    "                               np.full((21,1), er[-49]),\n",
    "                               np.full((21,1), er[-48]),\n",
    "                               np.full((21,1), er[-47]),\n",
    "                               np.full((18,1), er[-46]),\n",
    "                               np.full((20,1), er[-45]),\n",
    "                               np.full((22,1), er[-44]),\n",
    "                               np.full((22,1), er[-43]),\n",
    "                               np.full((19,1), er[-42]),\n",
    "                               np.full((19,1), er[-41]),\n",
    "                               np.full((21,1), er[-40]),\n",
    "                               np.full((22,1), er[-39]),\n",
    "                               np.full((22,1), er[-38]),\n",
    "                               np.full((19,1), er[-37]),\n",
    "                               np.full((22,1), er[-36]),\n",
    "                               np.full((22,1), er[-35]),\n",
    "                               np.full((18,1), er[-34]),\n",
    "                               np.full((20,1), er[-33]),\n",
    "                               np.full((21,1), er[-32]),\n",
    "                               np.full((21,1), er[-31]),\n",
    "                               np.full((19,1), er[-30]),\n",
    "                               np.full((21,1), er[-29]),\n",
    "                               np.full((20,1), er[-28]),\n",
    "                               np.full((23,1), er[-27]),\n",
    "                               np.full((22,1), er[-26]),\n",
    "                               np.full((19,1), er[-25]),\n",
    "                               np.full((20,1), er[-24]),\n",
    "                               np.full((22,1), er[-23]),\n",
    "                               np.full((20,1), er[-22]),\n",
    "                               np.full((20,1), er[-21]),\n",
    "                               np.full((20,1), er[-20]),\n",
    "                               np.full((21,1), er[-19]),\n",
    "                               np.full((21,1), er[-18]),\n",
    "                               np.full((19,1), er[-17]),\n",
    "                               np.full((21,1), er[-16]),\n",
    "                               np.full((23,1), er[-15]),\n",
    "                               np.full((19,1), er[-14]),\n",
    "                               np.full((21,1), er[-13]),\n",
    "                               np.full((22,1), er[-12]),\n",
    "                               np.full((20,1), er[-11]),\n",
    "                               np.full((17,1), er[-10]),\n",
    "                               np.full((22,1), er[-9]),\n",
    "                               np.full((19,1), er[-8]),\n",
    "                               np.full((22,1), er[-7]),\n",
    "                               np.full((21,1), er[-6]),\n",
    "                               np.full((17,1), er[-5]),\n",
    "                               np.full((22,1), er[-4]),\n",
    "                               np.full((22,1), er[-3]),\n",
    "                               np.full((19,1), er[-2]),\n",
    "                               np.full((17,1), er[-1])), axis=0)\n",
    "    train_inputs = np.concatenate((array, exchange), axis=1)\n",
    "    return train_inputs\n",
    "def scaleData(a):\n",
    "    scaler = MinMaxScaler()\n",
    "    scale_cols = [0]\n",
    "    df_scaled = scaler.fit_transform(a[scale_cols])"
   ]
  },
  {
   "cell_type": "code",
   "execution_count": 63,
   "id": "52844246",
   "metadata": {},
   "outputs": [
    {
     "name": "stderr",
     "output_type": "stream",
     "text": [
      "C:\\Users\\wjddu\\AppData\\Local\\Temp\\ipykernel_11612\\3473795404.py:62: DtypeWarning: Columns (0) have mixed types. Specify dtype option on import or set low_memory=False.\n",
      "  csv = pd.read_csv('./Data/주식가격/%s.csv'%(self.code))\n",
      "C:\\Users\\wjddu\\AppData\\Local\\Temp\\ipykernel_11612\\3473795404.py:62: DtypeWarning: Columns (0) have mixed types. Specify dtype option on import or set low_memory=False.\n",
      "  csv = pd.read_csv('./Data/주식가격/%s.csv'%(self.code))\n"
     ]
    }
   ],
   "source": [
    "SS = Stock('005930')\n",
    "SK = Stock('000660')\n",
    "DW=Stock('049770')\n",
    "SFA=Stock('056190')\n",
    "GW=Stock('001570')\n",
    "\n",
    "sa=SS.priceList()\n",
    "sk=SK.priceList()\n",
    "dw=DW.priceList()\n",
    "sf=SFA.priceList()\n",
    "gy=GW.priceList()\n",
    "sadata=SS.idxNorm()\n",
    "skdata=SK.idxNorm()\n",
    "dwdata=DW.idxNorm()\n",
    "gydata=GW.idxNorm()\n",
    "sfdata=SFA.idxNorm()"
   ]
  },
  {
   "cell_type": "code",
   "execution_count": 70,
   "id": "ffde786e",
   "metadata": {
    "scrolled": true
   },
   "outputs": [],
   "source": [
    "train_inputs = concatData(sa, sadata)\n",
    "train_inputs = train_inputs[:-1,:]"
   ]
  },
  {
   "cell_type": "code",
   "execution_count": 71,
   "id": "1d9ef67e",
   "metadata": {},
   "outputs": [
    {
     "name": "stdout",
     "output_type": "stream",
     "text": [
      "(1147, 9)\n"
     ]
    }
   ],
   "source": [
    "print(train_inputs.shape)"
   ]
  },
  {
   "cell_type": "code",
   "execution_count": 69,
   "id": "d914801d",
   "metadata": {},
   "outputs": [
    {
     "name": "stdout",
     "output_type": "stream",
     "text": [
      "(1147, 1)\n"
     ]
    }
   ],
   "source": [
    "train_labels = train_inputs[1:,0].reshape(-1,1)\n",
    "print(train_labels.shape)"
   ]
  },
  {
   "cell_type": "code",
   "execution_count": 99,
   "id": "1acf6ad3",
   "metadata": {},
   "outputs": [
    {
     "name": "stdout",
     "output_type": "stream",
     "text": [
      "Model: \"sequential\"\n",
      "_________________________________________________________________\n",
      " Layer (type)                Output Shape              Param #   \n",
      "=================================================================\n",
      " lstm (LSTM)                 (None, 9, 9)              396       \n",
      "                                                                 \n",
      " lstm_1 (LSTM)               (None, 64)                18944     \n",
      "                                                                 \n",
      " dense (Dense)               (None, 20)                1300      \n",
      "                                                                 \n",
      "=================================================================\n",
      "Total params: 20,640\n",
      "Trainable params: 20,640\n",
      "Non-trainable params: 0\n",
      "_________________________________________________________________\n"
     ]
    },
    {
     "ename": "NameError",
     "evalue": "name 'x_train' is not defined",
     "output_type": "error",
     "traceback": [
      "\u001b[1;31m---------------------------------------------------------------------------\u001b[0m",
      "\u001b[1;31mNameError\u001b[0m                                 Traceback (most recent call last)",
      "\u001b[1;32m~\\AppData\\Local\\Temp\\ipykernel_17884\\2729392028.py\u001b[0m in \u001b[0;36m<module>\u001b[1;34m\u001b[0m\n\u001b[0;32m      8\u001b[0m \u001b[0mmodel\u001b[0m\u001b[1;33m.\u001b[0m\u001b[0msummary\u001b[0m\u001b[1;33m(\u001b[0m\u001b[1;33m)\u001b[0m\u001b[1;33m\u001b[0m\u001b[1;33m\u001b[0m\u001b[0m\n\u001b[0;32m      9\u001b[0m model.fit(\n\u001b[1;32m---> 10\u001b[1;33m     \u001b[0mx_train\u001b[0m\u001b[1;33m,\u001b[0m\u001b[1;33m\u001b[0m\u001b[1;33m\u001b[0m\u001b[0m\n\u001b[0m\u001b[0;32m     11\u001b[0m     \u001b[0my_train\u001b[0m\u001b[1;33m,\u001b[0m\u001b[1;33m\u001b[0m\u001b[1;33m\u001b[0m\u001b[0m\n\u001b[0;32m     12\u001b[0m     \u001b[0mvalidation_data\u001b[0m\u001b[1;33m=\u001b[0m\u001b[1;33m(\u001b[0m\u001b[0mx_test\u001b[0m\u001b[1;33m,\u001b[0m\u001b[0my_test\u001b[0m\u001b[1;33m)\u001b[0m\u001b[1;33m,\u001b[0m\u001b[1;33m\u001b[0m\u001b[1;33m\u001b[0m\u001b[0m\n",
      "\u001b[1;31mNameError\u001b[0m: name 'x_train' is not defined"
     ]
    }
   ],
   "source": [
    "input_size = 9\n",
    "model = Sequential([\n",
    "    layers.LSTM(input_size,activation='tanh',return_sequences=True,input_shape=(input_size,1)),\n",
    "    layers.LSTM(64,return_sequences=False),\n",
    "    layers.Dense(20, activation='softmax')\n",
    "])\n",
    "model.compile(loss='mse',optimizer='adam')\n",
    "model.summary()\n",
    "model.fit(\n",
    "    train_inputs,\n",
    "    train_labels,\n",
    "    validation_data=(x_test,y_test),\n",
    "    batch_size=10,\n",
    "    epochs=20\n",
    ")"
   ]
  },
  {
   "cell_type": "code",
   "execution_count": null,
   "id": "eb37322a",
   "metadata": {},
   "outputs": [],
   "source": [
    "pred = model.predict(x_test)\n",
    "fit = plt.figure(facecolor='white')\n",
    "ax = fig.add_subplot(111)\n",
    "ax.plot(y_test,label='True')\n",
    "ax.plot(pred, label='Prediction')\n",
    "ax.legend()\n",
    "plt.show()"
   ]
  },
  {
   "cell_type": "code",
   "execution_count": null,
   "id": "12b36b58",
   "metadata": {},
   "outputs": [],
   "source": []
  }
 ],
 "metadata": {
  "kernelspec": {
   "display_name": "Python 3 (ipykernel)",
   "language": "python",
   "name": "python3"
  },
  "language_info": {
   "codemirror_mode": {
    "name": "ipython",
    "version": 3
   },
   "file_extension": ".py",
   "mimetype": "text/x-python",
   "name": "python",
   "nbconvert_exporter": "python",
   "pygments_lexer": "ipython3",
   "version": "3.9.13"
  }
 },
 "nbformat": 4,
 "nbformat_minor": 5
}
